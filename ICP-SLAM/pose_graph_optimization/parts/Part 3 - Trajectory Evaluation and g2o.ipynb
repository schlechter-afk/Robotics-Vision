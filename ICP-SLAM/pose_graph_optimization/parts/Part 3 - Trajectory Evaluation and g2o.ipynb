{
 "cells": [
  {
   "cell_type": "code",
   "execution_count": 2,
   "id": "32bb60a5",
   "metadata": {},
   "outputs": [],
   "source": [
    "import os\n",
    "import jax.numpy as jnp\n",
    "import shutil"
   ]
  },
  {
   "cell_type": "markdown",
   "id": "b8342724",
   "metadata": {},
   "source": [
    "### Part 3: Trajectory Evaluation and g2o"
   ]
  },
  {
   "cell_type": "markdown",
   "id": "c3340c84",
   "metadata": {},
   "source": [
    "_Refer to the example notebooks for installation instructions_"
   ]
  },
  {
   "cell_type": "markdown",
   "id": "5794f651",
   "metadata": {},
   "source": [
    "### Evo"
   ]
  },
  {
   "cell_type": "markdown",
   "id": "73113295",
   "metadata": {},
   "source": [
    "So you've implemented 2D SLAM, great! Now, what? We need a measure of how good the trajectory is. The error/loss used earlier doesn't tell us much about how the trajectory differs from the ground truth. Here, we try to do just this - compute error metrics. Rather than computing these from scratch, we will just Evo - https://github.com/MichaelGrupp/evo/."
   ]
  },
  {
   "cell_type": "markdown",
   "id": "d417f977",
   "metadata": {},
   "source": [
    "Look at the absolute pose error (APE) and relative pose error (RPE). What do they capture and how are they calculated (descriptive answer)? How do these metrics differ in methodology? Can we determine if the error is more along the x/y axis?\n",
    "\n",
    "Answer the above questions and report errors for the obtained trajectory."
   ]
  },
  {
   "cell_type": "code",
   "execution_count": 15,
   "id": "5526ae10",
   "metadata": {},
   "outputs": [],
   "source": [
    "# Answer the above questions. Also include plots/images.\n",
    "def getEvo(infile,gtFile):\n",
    "    os.system('evo_rpe kitti ' + gtFile + ' ' + infile + ' -v --plot --plot_mode xy')\n",
    "    os.system('evo_ape kitti ' + gtFile + ' ' + infile + ' -v --plot --plot_mode xy')\n",
    "    os.system('evo_traj kitti ' + gtFile + ' ' + infile + ' -v --plot --plot_mode xy')"
   ]
  },
  {
   "cell_type": "code",
   "execution_count": 16,
   "id": "807e150c",
   "metadata": {},
   "outputs": [
    {
     "name": "stdout",
     "output_type": "stream",
     "text": [
      "Figure(640x480)\n",
      "saved '../data/out.kitti' from '../data/out.g2o'\n",
      "--------------------------------------------------------------------------------\n",
      "Loaded 120 poses from: ../data/gt.kitti\n",
      "Loaded 120 poses from: ../data/out.kitti\n",
      "--------------------------------------------------------------------------------\n",
      "Found 119 pairs with delta 1 (frames) among 120 poses using consecutive pairs.\n",
      "Compared 119 relative pose pairs, delta = 1 (frames) with consecutive pairs.\n",
      "Calculating RPE for translation part pose relation...\n",
      "--------------------------------------------------------------------------------\n",
      "RPE w.r.t. translation part (m)\n",
      "for delta = 1 (frames) using consecutive pairs\n",
      "(not aligned)\n",
      "\n",
      "       max\t0.287002\n",
      "      mean\t0.117280\n",
      "    median\t0.113936\n",
      "       min\t0.005656\n",
      "      rmse\t0.132108\n",
      "       sse\t2.076860\n",
      "       std\t0.060812\n",
      "\n",
      "--------------------------------------------------------------------------------\n",
      "Plotting results... \n"
     ]
    },
    {
     "name": "stderr",
     "output_type": "stream",
     "text": [
      "/home/rohan/miniconda3/envs/MR/lib/python3.8/site-packages/evo/tools/plot.py:165: UserWarning: The figure layout has changed to tight\n",
      "  fig.tight_layout()\n"
     ]
    },
    {
     "name": "stdout",
     "output_type": "stream",
     "text": [
      "--------------------------------------------------------------------------------\n",
      "Loaded 120 poses from: ../data/gt.kitti\n",
      "Loaded 120 poses from: ../data/out.kitti\n",
      "--------------------------------------------------------------------------------\n",
      "Compared 120 absolute pose pairs.\n",
      "Calculating APE for translation part pose relation...\n",
      "--------------------------------------------------------------------------------\n",
      "APE w.r.t. translation part (m)\n",
      "(not aligned)\n",
      "\n",
      "       max\t10.234741\n",
      "      mean\t5.312775\n",
      "    median\t5.655704\n",
      "       min\t0.000000\n",
      "      rmse\t6.185583\n",
      "       sse\t4591.372590\n",
      "       std\t3.167943\n",
      "\n",
      "--------------------------------------------------------------------------------\n",
      "Plotting results... \n"
     ]
    },
    {
     "name": "stderr",
     "output_type": "stream",
     "text": [
      "/home/rohan/miniconda3/envs/MR/lib/python3.8/site-packages/evo/tools/plot.py:165: UserWarning: The figure layout has changed to tight\n",
      "  fig.tight_layout()\n"
     ]
    },
    {
     "name": "stdout",
     "output_type": "stream",
     "text": [
      "--------------------------------------------------------------------------------\n",
      "Loaded 120 poses from: ../data/gt.kitti\n",
      "Loaded 120 poses from: ../data/out.kitti\n",
      "--------------------------------------------------------------------------------\n",
      "name:\tgt\n",
      "infos:\n",
      "\tnr. of poses\t120\n",
      "\tpath length (m)\t52.976517997999295\n",
      "\tpos_end (m)\t[-2.8 -4.5  0. ]\n",
      "\tpos_start (m)\t[-8.  5.  0.]\n",
      "--------------------------------------------------------------------------------\n",
      "name:\tout\n",
      "infos:\n",
      "\tnr. of poses\t120\n",
      "\tpath length (m)\t53.762411967921594\n",
      "\tpos_end (m)\t[-0.15280963  4.0175176   0.        ]\n",
      "\tpos_start (m)\t[-8.  5.  0.]\n"
     ]
    },
    {
     "name": "stderr",
     "output_type": "stream",
     "text": [
      "/home/rohan/miniconda3/envs/MR/lib/python3.8/site-packages/evo/tools/plot.py:165: UserWarning: The figure layout has changed to tight\n",
      "  fig.tight_layout()\n"
     ]
    }
   ],
   "source": [
    "os.system('python3 ../misc/g2o_to_kitti.py ../data/out.g2o ../data/out.kitti')\n",
    "getEvo('../data/out.kitti', '../data/gt.kitti')"
   ]
  },
  {
   "cell_type": "markdown",
   "id": "02668356",
   "metadata": {},
   "source": [
    "Try to play around with this tool and add any other plots that you think might be relevant/interesting."
   ]
  },
  {
   "cell_type": "markdown",
   "id": "dd426f74",
   "metadata": {},
   "source": [
    "**APE**: Absolute Pose Error - it is used to calculate the direct error between the poses of the 2 files we provide to it. It is useful as it helps us obtain a wider view of how different the actual poses are in the ground truth frame and the optimized frame, giving us an overview of how correct our poses are. However, before comparing the direct poses, we need to align them, as they may be in different coordinate frames. This can be achieved using Horn's method, which finds the rigid-body transformation S.\n",
    "\n",
    "The error matrix at time `i` is defined as:\n",
    "$$E_{i} := Q_{i}^{-1} S P_{i}$$\n",
    "and the APE is defined as RMSE from the error matrices over all the time indices:\n",
    "\n",
    "$$APE_{rmse} = (\\frac{1}{n} \\sum_{i = 1}^{n} ||trans(E_{i})||^{2})$$\n",
    "\n",
    "The mean and median values are computed. Actually, APE is the average deviation from the ground trajectory per frame.\n",
    "\n",
    "\n",
    "**RPE**: Relative Pose Error - Compares pose deltas instead of the absolute poses. It checks how the transformations of each pose differ from each other and how the values drift over time.\n",
    "\n",
    "The relative pose error matrix at time `i` is defined as:\n",
    "$$F_{i}^{\\Delta} := (Q_{i}^{-1}Q_{i + \\Delta})^{-1}(P_{i}^{-1}P_{i + \\Delta})$$\n",
    "We get $m = n - \\Delta$ matrices from $n$ camera poses.\n",
    "\n",
    "Even within drift, there are 2 different components - rotational and translational\n",
    "$$RPE_{rot}^{i, \\Delta} = \\frac{1}{m}\\sum_{i = 1}^{m}\\angle(rot(F_{i}^{\\Delta}))$$\n",
    "$$RPE_{trans}^{i, \\Delta} = (\\frac{1}{m}\\sum_{i = 1}^{m} ||trans(F_{i})||^{2})^{\\frac{1}{2}}$$\n",
    "\n",
    "**Difference**: `APE` measures the absolute error in the corresponding poses, while `RPE` measures the accumulation of drift in the transformations between the current and previous poses.\n",
    "\n",
    "**Determining axis of higher error**: From the given graphs, we cannot see the difference in X and Y's respective APE and RPE values since the graph gives us APE and RPE wrt index. When it comes to RPE, it makes no sense for there to be differing X and Y errors, since its calculating the relative drift in poses, and that will differ in rotation/translation not x and y (in fact, comparing over X or Y will basically ignore the rotational part of the error). We can, however, calculate the APE over X and Y separately for each pose (calculate $\\Delta x$ and $\\Delta y$ separately) and compare. "
   ]
  },
  {
   "cell_type": "markdown",
   "id": "5a327118",
   "metadata": {},
   "source": [
    "### g2o"
   ]
  },
  {
   "cell_type": "markdown",
   "id": "a2b21e85",
   "metadata": {},
   "source": [
    "Install g2o as mentioned in `examples/g2o.ipynb` and optimise `edges.txt`, the file you used earlier. Also use `g2o_viewer` and optimize `intel` (a trajectory in the Intel research lab) and `sphere`. They should look something like:\n",
    "\n",
    "\n",
    "<table><tr>\n",
    "<td> <img src=\"../misc/intel.jpg\" alt=\"Drawing\" style=\"width: 250px;\"/> </td>\n",
    "<td> <img src=\"../misc/sphere.jpg\" alt=\"Drawing\" style=\"width: 250px;\"/> </td>\n",
    "</tr></table>"
   ]
  },
  {
   "cell_type": "markdown",
   "id": "38244cee",
   "metadata": {},
   "source": [
    "Write briefly about your observations and try out few options in the GUI. What do they do, how do they perform?"
   ]
  },
  {
   "cell_type": "code",
   "execution_count": 8,
   "id": "77103181",
   "metadata": {},
   "outputs": [
    {
     "name": "stderr",
     "output_type": "stream",
     "text": [
      "Read input from ../data/unOpt.g2o\n",
      "Loaded 120 vertices\n",
      "Loaded 139 edges\n",
      "# graph is fixed by priors or already fixed vertex\n",
      "Initial chi2 = 573824.084635\n",
      "saving ../data/opt.g2o ... done.\n"
     ]
    },
    {
     "name": "stdout",
     "output_type": "stream",
     "text": [
      "Figure(640x480)\n",
      "saved '../data/opt.kitti' from '../data/opt.g2o'\n",
      "--------------------------------------------------------------------------------\n",
      "Loaded 120 poses from: ../data/gt.kitti\n",
      "Loaded 120 poses from: ../data/opt.kitti\n",
      "--------------------------------------------------------------------------------\n",
      "Found 119 pairs with delta 1 (frames) among 120 poses using consecutive pairs.\n",
      "Compared 119 relative pose pairs, delta = 1 (frames) with consecutive pairs.\n",
      "Calculating RPE for translation part pose relation...\n",
      "--------------------------------------------------------------------------------\n",
      "RPE w.r.t. translation part (m)\n",
      "for delta = 1 (frames) using consecutive pairs\n",
      "(not aligned)\n",
      "\n",
      "       max\t0.256198\n",
      "      mean\t0.114314\n",
      "    median\t0.097856\n",
      "       min\t0.009129\n",
      "      rmse\t0.128960\n",
      "       sse\t1.979061\n",
      "       std\t0.059691\n",
      "\n",
      "--------------------------------------------------------------------------------\n",
      "Plotting results... \n"
     ]
    },
    {
     "name": "stderr",
     "output_type": "stream",
     "text": [
      "/home/rohan/miniconda3/envs/MR/lib/python3.8/site-packages/evo/tools/plot.py:165: UserWarning: The figure layout has changed to tight\n",
      "  fig.tight_layout()\n"
     ]
    },
    {
     "name": "stdout",
     "output_type": "stream",
     "text": [
      "--------------------------------------------------------------------------------\n",
      "Loaded 120 poses from: ../data/gt.kitti\n",
      "Loaded 120 poses from: ../data/opt.kitti\n",
      "--------------------------------------------------------------------------------\n",
      "Compared 120 absolute pose pairs.\n",
      "Calculating APE for translation part pose relation...\n",
      "--------------------------------------------------------------------------------\n",
      "APE w.r.t. translation part (m)\n",
      "(not aligned)\n",
      "\n",
      "       max\t1.863155\n",
      "      mean\t0.704550\n",
      "    median\t0.558657\n",
      "       min\t0.000000\n",
      "      rmse\t0.882165\n",
      "       sse\t93.385719\n",
      "       std\t0.530871\n",
      "\n",
      "--------------------------------------------------------------------------------\n",
      "Plotting results... \n"
     ]
    },
    {
     "name": "stderr",
     "output_type": "stream",
     "text": [
      "/home/rohan/miniconda3/envs/MR/lib/python3.8/site-packages/evo/tools/plot.py:165: UserWarning: The figure layout has changed to tight\n",
      "  fig.tight_layout()\n"
     ]
    },
    {
     "name": "stdout",
     "output_type": "stream",
     "text": [
      "--------------------------------------------------------------------------------\n",
      "Loaded 120 poses from: ../data/gt.kitti\n",
      "Loaded 120 poses from: ../data/opt.kitti\n",
      "--------------------------------------------------------------------------------\n",
      "name:\tgt\n",
      "infos:\n",
      "\tnr. of poses\t120\n",
      "\tpath length (m)\t52.976517997999295\n",
      "\tpos_end (m)\t[-2.8 -4.5  0. ]\n",
      "\tpos_start (m)\t[-8.  5.  0.]\n",
      "--------------------------------------------------------------------------------\n",
      "name:\topt\n",
      "infos:\n",
      "\tnr. of poses\t120\n",
      "\tpath length (m)\t53.81648854770469\n",
      "\tpos_end (m)\t[-3.28756 -5.45456  0.     ]\n",
      "\tpos_start (m)\t[-8.  5.  0.]\n"
     ]
    },
    {
     "name": "stderr",
     "output_type": "stream",
     "text": [
      "/home/rohan/miniconda3/envs/MR/lib/python3.8/site-packages/evo/tools/plot.py:165: UserWarning: The figure layout has changed to tight\n",
      "  fig.tight_layout()\n"
     ]
    }
   ],
   "source": [
    "# Your answer\n",
    "# shutil.copyfile('../data/edges.txt', '../data/edges.g2o')\n",
    "cmd = \"g2o -o ../data/opt.g2o ../data/unOpt.g2o\"\n",
    "os.system(cmd)\n",
    "\n",
    "os.system(\"python3 ../misc/g2o_to_kitti.py ../data/opt.g2o ../data/opt.kitti\")\n",
    "getEvo('../data/opt.kitti', '../data/gt.kitti')"
   ]
  },
  {
   "cell_type": "code",
   "execution_count": null,
   "id": "dfbf5d36",
   "metadata": {},
   "outputs": [],
   "source": []
  }
 ],
 "metadata": {
  "kernelspec": {
   "display_name": "Python 3",
   "language": "python",
   "name": "python3"
  },
  "language_info": {
   "codemirror_mode": {
    "name": "ipython",
    "version": 3
   },
   "file_extension": ".py",
   "mimetype": "text/x-python",
   "name": "python",
   "nbconvert_exporter": "python",
   "pygments_lexer": "ipython3",
   "version": "3.8.17"
  }
 },
 "nbformat": 4,
 "nbformat_minor": 5
}
